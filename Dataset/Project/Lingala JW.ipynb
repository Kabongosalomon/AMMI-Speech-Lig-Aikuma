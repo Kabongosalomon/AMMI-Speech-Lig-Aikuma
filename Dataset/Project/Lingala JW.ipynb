{
 "cells": [
  {
   "cell_type": "code",
   "execution_count": 5,
   "metadata": {},
   "outputs": [],
   "source": [
    "import requests as rq\n",
    "import bs4 as bs\n",
    "import json\n",
    "import traceback\n",
    "import re\n",
    "import numpy as np\n",
    "import json\n",
    "from selenium import webdriver\n",
    "from selenium.webdriver.support.ui import WebDriverWait\n",
    "from selenium.webdriver.common.by import By\n",
    "from selenium.webdriver.support import expected_conditions as EC\n",
    "import time\n",
    "import glob, os\n",
    "import ipdb"
   ]
  },
  {
   "cell_type": "markdown",
   "metadata": {},
   "source": [
    "# For AMMI Speech Course"
   ]
  },
  {
   "cell_type": "code",
   "execution_count": 6,
   "metadata": {},
   "outputs": [],
   "source": [
    "from bs4 import BeautifulSoup"
   ]
  },
  {
   "cell_type": "code",
   "execution_count": 72,
   "metadata": {},
   "outputs": [],
   "source": [
    "def load_book_chapeter(book = 'masese', verse = '1'):\n",
    "    \"\"\"\n",
    "    This function will help to save in text form, depening to the book and verse argument \n",
    "    given in parameter\n",
    "    \n",
    "    The data is maintly taken from the website https://www.jw.org/\n",
    "    \"\"\"\n",
    "    try :\n",
    "        r = rq.get('https://www.jw.org/ln/Biblioteke/biblia/bi12/mikanda/'\\\n",
    "                     +str(book)+'/'+str(verse)+'/')\n",
    "\n",
    "        html = r.content\n",
    "        soup = BeautifulSoup(html, 'html.parser') \n",
    "        s = soup.find_all('span', {'class' : 'style-b'})\n",
    "\n",
    "        if s == []:\n",
    "            # This may happen when the verse doesn't exist\n",
    "            raise Exception('Verse', 'empty s')\n",
    "            \n",
    "        with open(\"./data/doc_book_\"+str(book)+\"_verse_\"+verse+\".txt\", \"w\") as text_file:              \n",
    "            for i, t in enumerate(s):\n",
    "                # this removes special caracters from the text# this removes special caracters from the text\n",
    "                text = re.sub(r\"[^a-zA-Z]+\", ' ', t.text) \n",
    "                # .strip() to delect any leading and trailing whitespace\n",
    "                text_file.write(text.strip()+\" ## .\\n\") # to use the ligaikuma app, we need to format of in the .txt\n",
    "        \n",
    "    except Exception as inst:      \n",
    "        traceback.print_exc()"
   ]
  },
  {
   "cell_type": "markdown",
   "metadata": {},
   "source": [
    "## Book of Proverbs"
   ]
  },
  {
   "cell_type": "markdown",
   "metadata": {},
   "source": [
    "The book of proverbs have 31 chapters, and proverb in lingala is **masese**"
   ]
  },
  {
   "cell_type": "code",
   "execution_count": 73,
   "metadata": {},
   "outputs": [],
   "source": [
    "for i in range(1, 32):\n",
    "    load_book_chapeter(book = 'masese', verse = str(i))        "
   ]
  },
  {
   "cell_type": "code",
   "execution_count": 52,
   "metadata": {},
   "outputs": [],
   "source": [
    "# s = soup.find_all('span', {'class' : 'style-b'})"
   ]
  },
  {
   "cell_type": "code",
   "execution_count": 74,
   "metadata": {},
   "outputs": [],
   "source": [
    "# load_book_chapeter(book = 'masese', verse = str(1))        "
   ]
  },
  {
   "cell_type": "markdown",
   "metadata": {},
   "source": [
    "## Book of Acts of Apostles \n",
    "\n",
    "The book of Acts has 28 verses, and Acts of Apostles in lingala is **misala**"
   ]
  },
  {
   "cell_type": "code",
   "execution_count": 75,
   "metadata": {},
   "outputs": [],
   "source": [
    "for i in range(1, 29):\n",
    "    load_book_chapeter(book = 'misala', verse = str(i))        "
   ]
  },
  {
   "cell_type": "code",
   "execution_count": 86,
   "metadata": {},
   "outputs": [],
   "source": [
    "Bible_dict = {\n",
    "    'ebandeli' : 50,\n",
    "    'kobima' : 40,\n",
    "    'balevi' : 27,\n",
    "    'Mitángo' : 36,\n",
    "    'kolimbola-mibeko' : 34,\n",
    "    'yosua' : 24,\n",
    "    'basambisi' : 21,\n",
    "    'ruta' : 4, \n",
    "    '1-samwele' : 31,\n",
    "    '2-samwele' : 24,\n",
    "    '1-bakonzi' : 22,\n",
    "    '2-bakonzi' : 25,\n",
    "    '1-ntango' : 29,\n",
    "    '2-ntango' : 36,\n",
    "    'ezera' : 10,\n",
    "    'nehemia' : 13,\n",
    "    'estere' : 10, \n",
    "    'yobo' : 42,\n",
    "    'nzembo' : 150,\n",
    "    'masese' : 31,\n",
    "    'mosakoli' : 12,\n",
    "    'loyembo-ya-salomo' : 8,\n",
    "    'yisaya' : 66,\n",
    "    'yirimia' : 52,\n",
    "    'bileli' : 5,\n",
    "    'ezekiele' : 48,\n",
    "    'danyele' : 12,\n",
    "    'hosea' : 14,\n",
    "    'yoele' : 3,\n",
    "    'amose' : 9,\n",
    "    'obadia' : 1,\n",
    "    'yona' : 4,\n",
    "    'mika' : 7,\n",
    "    'nahumu' : 3,\n",
    "    'habakuku' : 3,\n",
    "    'sefania' : 3,\n",
    "    'hagai' : 2,\n",
    "    'zekaria' : 14,\n",
    "    'malaki' : 4,\n",
    "    'matai' : 28,\n",
    "    'marko' : 16,\n",
    "    'luka' : 24,\n",
    "    'yoane' : 21,\n",
    "    'misala' : 28,\n",
    "    'baroma' : 16,\n",
    "    '1-bakorinti' : 16,\n",
    "    '2-bakorinti' : 3,\n",
    "    'bagalatia' : 6,\n",
    "    'baefese' : 6,\n",
    "    'bafilipi' : 4,\n",
    "    'bakolose' : 4,\n",
    "    '1-batesaloniki' : 5,\n",
    "    '2-batesaloniki' : 3,\n",
    "    '1-timote' : 6,\n",
    "    '2-timote' : 4,\n",
    "    'tito' : 3,\n",
    "    'filemo' : 1,\n",
    "    'baebre' : 13,\n",
    "    'yakobo' : 5,\n",
    "    '1-petro' : 5,\n",
    "    '2-petro' : 3,\n",
    "    '1-yoane' : 5,\n",
    "    '2-yoane' : 1,\n",
    "    '3-yoane' : 1,\n",
    "    'yuda' : 1,\n",
    "    'emoniseli' : 22\n",
    "}"
   ]
  },
  {
   "cell_type": "code",
   "execution_count": 89,
   "metadata": {},
   "outputs": [
    {
     "data": {
      "text/plain": [
       "dict_keys(['ebandeli', 'kobima', 'balevi', 'Mitángo', 'kolimbola-mibeko', 'yosua', 'basambisi', 'ruta', '1-samwele', '2-samwele', '1-bakonzi', '2-bakonzi', '1-ntango', '2-ntango', 'ezera', 'nehemia', 'estere', 'yobo', 'nzembo', 'masese', 'mosakoli', 'loyembo-ya-salomo', 'yisaya', 'yirimia', 'bileli', 'ezekiele', 'danyele', 'hosea', 'yoele', 'amose', 'obadia', 'yona', 'mika', 'nahumu', 'habakuku', 'sefania', 'hagai', 'zekaria', 'malaki', 'matai', 'marko', 'luka', 'yoane', 'misala', 'baroma', '1-bakorinti', '2-bakorinti', 'bagalatia', 'baefese', 'bafilipi', 'bakolose', '1-batesaloniki', '2-batesaloniki', '1-timote', '2-timote', 'tito', 'filemo', 'baebre', 'yakobo', '1-petro', '2-petro', '1-yoane', '2-yoane', '3-yoane', 'yuda', 'emoniseli'])"
      ]
     },
     "execution_count": 89,
     "metadata": {},
     "output_type": "execute_result"
    }
   ],
   "source": [
    "Bible_dict.keys()"
   ]
  },
  {
   "cell_type": "code",
   "execution_count": 93,
   "metadata": {},
   "outputs": [
    {
     "name": "stdout",
     "output_type": "stream",
     "text": [
      "ebandeli 50\n",
      "kobima 40\n",
      "balevi 27\n",
      "Mitángo 36\n",
      "kolimbola-mibeko 34\n",
      "yosua 24\n",
      "basambisi 21\n",
      "ruta 4\n",
      "1-samwele 31\n",
      "2-samwele 24\n",
      "1-bakonzi 22\n",
      "2-bakonzi 25\n",
      "1-ntango 29\n",
      "2-ntango 36\n",
      "ezera 10\n",
      "nehemia 13\n",
      "estere 10\n",
      "yobo 42\n",
      "nzembo 150\n",
      "masese 31\n",
      "mosakoli 12\n",
      "loyembo-ya-salomo 8\n",
      "yisaya 66\n",
      "yirimia 52\n",
      "bileli 5\n",
      "ezekiele 48\n",
      "danyele 12\n",
      "hosea 14\n",
      "yoele 3\n",
      "amose 9\n",
      "obadia 1\n",
      "yona 4\n",
      "mika 7\n",
      "nahumu 3\n",
      "habakuku 3\n",
      "sefania 3\n",
      "hagai 2\n",
      "zekaria 14\n",
      "malaki 4\n",
      "matai 28\n",
      "marko 16\n",
      "luka 24\n",
      "yoane 21\n",
      "misala 28\n",
      "baroma 16\n",
      "1-bakorinti 16\n",
      "2-bakorinti 3\n",
      "bagalatia 6\n",
      "baefese 6\n",
      "bafilipi 4\n",
      "bakolose 4\n",
      "1-batesaloniki 5\n",
      "2-batesaloniki 3\n",
      "1-timote 6\n",
      "2-timote 4\n",
      "tito 3\n",
      "filemo 1\n",
      "baebre 13\n",
      "yakobo 5\n",
      "1-petro 5\n",
      "2-petro 3\n",
      "1-yoane 5\n",
      "2-yoane 1\n",
      "3-yoane 1\n",
      "yuda 1\n",
      "emoniseli 22\n"
     ]
    }
   ],
   "source": [
    "for book, verses in zip(Bible_dict.keys(), Bible_dict.values()):\n",
    "    for i in range(1, verses+1):\n",
    "        load_book_chapeter(book = book, verse = str(i))        "
   ]
  },
  {
   "cell_type": "code",
   "execution_count": null,
   "metadata": {},
   "outputs": [],
   "source": []
  }
 ],
 "metadata": {
  "kernelspec": {
   "display_name": "Python 3.7.4 64-bit ('aims': conda)",
   "language": "python",
   "name": "python37464bitaimsconda6bccf2f8401542c48647bf2fd404ce6f"
  },
  "language_info": {
   "codemirror_mode": {
    "name": "ipython",
    "version": 3
   },
   "file_extension": ".py",
   "mimetype": "text/x-python",
   "name": "python",
   "nbconvert_exporter": "python",
   "pygments_lexer": "ipython3",
   "version": "3.7.4"
  }
 },
 "nbformat": 4,
 "nbformat_minor": 4
}
