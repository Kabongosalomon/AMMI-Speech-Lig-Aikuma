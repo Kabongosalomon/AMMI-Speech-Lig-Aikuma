{
 "cells": [
  {
   "cell_type": "markdown",
   "metadata": {},
   "source": [
    "# Imports"
   ]
  },
  {
   "cell_type": "code",
   "execution_count": null,
   "metadata": {},
   "outputs": [],
   "source": [
    "# If you need some install, uncomment the code bellow \n",
    "\n",
    "# !pip install torch\n",
    "# !pip install torchvision\n",
    "# !pip install torchaudio\n",
    "# !pip install ipdb"
   ]
  },
  {
   "cell_type": "code",
   "execution_count": 10,
   "metadata": {},
   "outputs": [],
   "source": [
    "import torchaudio\n",
    "import torch\n",
    "from matplotlib import pyplot as plt\n",
    "import numpy as np\n",
    "from torch import Tensor\n",
    "import os\n",
    "from typing import Tuple\n",
    "\n",
    "import ipdb\n",
    "\n",
    "# from torchaudio.datasets import YESNO, LIBRISPEECH\n",
    "from torch.utils.data import DataLoader\n",
    "from torch.utils.data import Dataset\n",
    "\n",
    "import pdb, traceback, sys\n",
    "\n",
    "\n",
    "from torchaudio.datasets.utils import (\n",
    "  download_url,\n",
    "  extract_archive,\n",
    "  walk_files,\n",
    ")"
   ]
  },
  {
   "cell_type": "markdown",
   "metadata": {},
   "source": [
    "# MaseseSpeech 2h"
   ]
  },
  {
   "cell_type": "code",
   "execution_count": 11,
   "metadata": {},
   "outputs": [],
   "source": [
    "# # Train link Drive\n",
    "# https://drive.google.com/file/d/1CfqHBiOEVnJiuwZoqBJMlGO-N97JD3sR/view?usp=sharing\n",
    "    \n",
    "# wget --load-cookies /tmp/cookies.txt \"https://docs.google.com/uc?export=download&confirm=$(wget --quiet --save-cookies /tmp/cookies.txt --keep-session-cookies --no-check-certificate 'https://docs.google.com/uc?export=download&id=1CfqHBiOEVnJiuwZoqBJMlGO-N97JD3sR' -O- | sed -rn 's/.*confirm=([0-9A-Za-z_]+).*/\\1\\n/p')&id=1CfqHBiOEVnJiuwZoqBJMlGO-N97JD3sR\" -O train-clean.tar.xz && rm -rf /tmp/cookies.txt\n",
    "    \n",
    "# # Valid link Drive\n",
    "# https://drive.google.com/file/d/1Y1CiB7TbrGdghVokwMTBQA1fRza2NZUP/view?usp=sharing\n",
    "# https://drive.google.com/file/d/1Y1CiB7TbrGdghVokwMTBQA1fRza2NZUP/view?usp=sharing\n",
    "    \n",
    "# wget --load-cookies /tmp/cookies.txt \"https://docs.google.com/uc?export=download&confirm=$(wget --quiet --save-cookies /tmp/cookies.txt --keep-session-cookies --no-check-certificate 'https://docs.google.com/uc?export=download&id=1Y1CiB7TbrGdghVokwMTBQA1fRza2NZUP' -O- | sed -rn 's/.*confirm=([0-9A-Za-z_]+).*/\\1\\n/p')&id=1Y1CiB7TbrGdghVokwMTBQA1fRza2NZUP\" -O dev-clean.tar.xz && rm -rf /tmp/cookies.txt"
   ]
  },
  {
   "cell_type": "code",
   "execution_count": 12,
   "metadata": {},
   "outputs": [],
   "source": [
    "# !mkdir MaseseSpeech\n",
    "# !mkdir MaseseSpeech\n",
    "\n",
    "# !wget --load-cookies /tmp/cookies.txt \"https://docs.google.com/uc?export=download&confirm=$(wget --quiet --save-cookies /tmp/cookies.txt --keep-session-cookies --no-check-certificate 'https://docs.google.com/uc?export=download&id=1CfqHBiOEVnJiuwZoqBJMlGO-N97JD3sR' -O- | sed -rn 's/.*confirm=([0-9A-Za-z_]+).*/\\1\\n/p')&id=1CfqHBiOEVnJiuwZoqBJMlGO-N97JD3sR\" -O MaseseSpeech/train-clean.tar.xz && rm -rf /tmp/cookies.txt\n",
    "# !wget --load-cookies /tmp/cookies.txt \"https://docs.google.com/uc?export=download&confirm=$(wget --quiet --save-cookies /tmp/cookies.txt --keep-session-cookies --no-check-certificate 'https://docs.google.com/uc?export=download&id=1Y1CiB7TbrGdghVokwMTBQA1fRza2NZUP' -O- | sed -rn 's/.*confirm=([0-9A-Za-z_]+).*/\\1\\n/p')&id=1Y1CiB7TbrGdghVokwMTBQA1fRza2NZUP\" -O MaseseSpeech/dev-clean.tar.xz && rm -rf /tmp/cookies.txt\n",
    "\n",
    "# extract_archive(\"MaseseSpeech/train-clean.tar.xz\")\n",
    "# extract_archive(\"MaseseSpeech/dev-clean.tar.xz\")\n",
    "\n",
    "# !rm -r \"MaseseSpeech/train-clean.tar.xz\"\n",
    "# !rm -r \"MaseseSpeech/dev-clean.tar.xz\""
   ]
  },
  {
   "cell_type": "code",
   "execution_count": 13,
   "metadata": {},
   "outputs": [],
   "source": [
    "\n",
    "\n",
    "URL = \"train-clean\"\n",
    "FOLDER_IN_ARCHIVE = \"MaseseSpeech\"\n",
    "# BASE_URL = \"https://dl.fbaipublicfiles.com/librispeech_100h_mp3/\"\n",
    "# _CHECKSUMS = {\n",
    "#   BASE_URL + \"dev-clean.tar.gz\":\n",
    "#   \"076916a8f9c61951c5d2e6efaa8d2188232fcf860eec8c074e46edf4fac9623e\",\n",
    "#   BASE_URL + \"test-clean.tar.gz\":\n",
    "#   \"3c171e2f1e377e4993c2dbe6bff3f01cd324c0ed462f4de6c78737402a7dbedd\",\n",
    "#   BASE_URL + \"train-clean-100.tar.gz\":\n",
    "#   \"7bfbefc680d25ba3a82798ce32c287ea0e82932af1b1f864fae71fb52d2f41f0\",\n",
    "# }\n",
    "\n",
    "\n",
    "def load_masesespeech_item(fileid: str, \n",
    "                          path: str, \n",
    "                          ext_audio: str, \n",
    "                          ext_txt: str) -> Tuple[Tensor, int, str, int, int, int]:\n",
    "    \n",
    "    speaker_id, chapter_id, utterance_id = fileid.split(\"-\")\n",
    "    \n",
    "    file_text = speaker_id + \"-\" + chapter_id + ext_txt\n",
    "    file_text = os.path.join(path, speaker_id, chapter_id, file_text)\n",
    "    \n",
    "    fileid_audio = speaker_id + \"-\" + chapter_id + \"-\" + utterance_id\n",
    "    file_audio = fileid_audio + ext_audio\n",
    "    file_audio = os.path.join(path, speaker_id, chapter_id, file_audio)\n",
    "    \n",
    "    \n",
    "    \n",
    "\n",
    "    try :\n",
    "        # Load audio\n",
    "        waveform, sample_rate = torchaudio.load(file_audio)\n",
    "\n",
    "        # Load text\n",
    "        with open(file_text) as ft:\n",
    "            for line in ft:\n",
    "                fileid_text, utterance = line.strip().split(\" \", 1)\n",
    "                if fileid_audio == fileid_text:\n",
    "                    break\n",
    "            else:\n",
    "              # Translation not found\n",
    "              raise FileNotFoundError(\"Translation not found for \" + fileid_audio)\n",
    "    except:\n",
    "        print(file_audio)\n",
    "        print(waveform)\n",
    "        pass\n",
    "#         traceback.print_exc()\n",
    "                \n",
    "    return (\n",
    "        waveform,\n",
    "        sample_rate,\n",
    "        utterance,\n",
    "#         int(speaker_id),\n",
    "        int(chapter_id),\n",
    "        int(utterance_id)\n",
    "        )\n",
    "\n",
    "\n",
    "class MASESESPEECH_2H_MP3(Dataset):\n",
    "    \"\"\"\n",
    "    Create a Dataset for MaseseSpeech. Each item is a tuple of the form:\n",
    "    waveform, utterance, chapter_id, verse_id, utterance_id\n",
    "    \"\"\"\n",
    "    \n",
    "    _ext_txt = \".trans.txt\"\n",
    "    _ext_audio = \".wav\"\n",
    "    \n",
    "    def __init__(self,\n",
    "                 root: str,\n",
    "                 mode: str = \"MaseseSpeech/train-clean\",\n",
    "                 folder_in_archive: str = FOLDER_IN_ARCHIVE,\n",
    "#                  download: bool = False\n",
    "                ) -> None:\n",
    "#         if url in [\n",
    "#             \"dev-clean\",\n",
    "# #             \"test-clean\",\n",
    "#             \"train-clean\",]:\n",
    "            \n",
    "#             ext_archive = \".tar.xz\"\n",
    "#             base_url = BASE_URL\n",
    "#             url = os.path.join(base_url, url + ext_archive)\n",
    "\n",
    "#         basename = os.path.basename(url)\n",
    "#         archive = os.path.join(root, basename)\n",
    "\n",
    "#         basename = basename.split(\".\")[0]\n",
    "#         folder_in_archive = os.path.join(folder_in_archive, basename)\n",
    "        \n",
    "        \n",
    "        self._path = mode\n",
    "\n",
    "#         if download:\n",
    "#             if not os.path.isdir(self._path):\n",
    "#                 if not os.path.isfile(archive):\n",
    "#                     checksum = _CHECKSUMS.get(url, None)\n",
    "#                     download_url(url, root, hash_value=checksum)\n",
    "        \n",
    "        walker = walk_files(\n",
    "          self._path, suffix=self._ext_audio, prefix=False, remove_suffix=True\n",
    "        )\n",
    "        self._walker = list(walker)\n",
    "    def __getitem__(self, n: int) -> Tuple[Tensor, int, str, int, int, int]:\n",
    "        fileid = self._walker[n]\n",
    "        return load_masesespeech_item(fileid, self._path, self._ext_audio, self._ext_txt)\n",
    "    \n",
    "    def __len__(self) -> int:\n",
    "        return len(self._walker)"
   ]
  },
  {
   "cell_type": "code",
   "execution_count": 74,
   "metadata": {},
   "outputs": [],
   "source": [
    "masese_train = MASESESPEECH_2H_MP3(\".\", mode = \"MaseseSpeech/train-clean\")\n",
    "masese_dev = MASESESPEECH_2H_MP3(\".\", mode = \"MaseseSpeech/dev-clean\")"
   ]
  },
  {
   "cell_type": "code",
   "execution_count": 75,
   "metadata": {},
   "outputs": [
    {
     "name": "stdout",
     "output_type": "stream",
     "text": [
      "(tensor([[ 0.0000,  0.0000,  0.0000,  ..., -0.0923, -0.0903, -0.0939]]), 16000, 'NA LOFUNDO, MOTO ABIMISAKA KAKA ETUMBA,  KASI BWANYA EZALI EPAI YA BAOYO BAPESANAKA MAKANISI.', 13, 9)\n",
      "(tensor([[0.0000, 0.0000, 0.0000,  ..., 0.0609, 0.0486, 0.0518]]), 16000, 'MPO LITOMBA YA KOZWA YANGO ELEKI LITOMBA YA KOZWA PALATA MPE KOZWA YANGO ELEKI KOZWA WOLO.', 3, 13)\n"
     ]
    }
   ],
   "source": [
    "# just so you get an idea of the format \n",
    "print(next(iter(masese_train)))\n",
    "print(next(iter(masese_dev)))"
   ]
  },
  {
   "cell_type": "code",
   "execution_count": null,
   "metadata": {},
   "outputs": [],
   "source": []
  },
  {
   "cell_type": "code",
   "execution_count": 76,
   "metadata": {},
   "outputs": [
    {
     "name": "stdout",
     "output_type": "stream",
     "text": [
      "[' ', 'A', 'B', 'C', 'D', 'E', 'F', 'G', 'H', 'I', 'J', 'K', 'L', 'M', 'N', 'O', 'P', 'Q', 'R', 'S', 'T', 'U', 'V', 'W', 'X', 'Y', 'Z', 'Ɛ', ',', ';', '.', 'Ɔ', 'Á', 'Ó', '-', '?', ':', '*', 'É', '—', '“', '”', '!', 'Í', '(', '1', '0', ')']\n"
     ]
    }
   ],
   "source": [
    "# Use this is your acoustic model is outputting letters\n",
    "special_caracters = \"Ɛ,;.ƆÁÓ-?:*É—“”!Í(10)\"\n",
    "tokens_list = list(\" ABCDEFGHIJKLMNOPQRSTUVWXYZ\"+special_caracters)\n",
    "tokens_set = set(tokens_list)\n",
    "print(tokens_list)"
   ]
  },
  {
   "cell_type": "code",
   "execution_count": 77,
   "metadata": {},
   "outputs": [],
   "source": [
    "def collate_fn_libri(batch):\n",
    "    #print(batch)\n",
    "    tensors = [b[0].t() for b in batch if b]\n",
    "    tensors_len = [len(t) for t in tensors]\n",
    "    tensors = torch.nn.utils.rnn.pad_sequence(tensors, batch_first=True)\n",
    "    tensors = tensors.transpose(1, -1)\n",
    "    \n",
    "    transcriptions = [list(b[2].replace(\"'\", \" \")) for b in batch if b]\n",
    "    targets = [torch.tensor([tokens_list.index(e) for e in t]) for t in transcriptions]\n",
    "    targets_len = [len(t) for t in targets]\n",
    "    targets = torch.nn.utils.rnn.pad_sequence(targets, batch_first=True)\n",
    "    \n",
    "    return tensors, targets, torch.tensor(tensors_len), torch.tensor(targets_len)\n",
    "\n",
    "# train_set = torch.utils.data.DataLoader(masese_train, batch_size=900, shuffle=True,\n",
    "#                                         num_workers=4, collate_fn=collate_fn_libri)"
   ]
  },
  {
   "cell_type": "code",
   "execution_count": 78,
   "metadata": {},
   "outputs": [],
   "source": [
    "# torchaudio.load(\"MaseseSpeech/train-clean/020/008/020-008-017.wav\")"
   ]
  },
  {
   "cell_type": "code",
   "execution_count": 79,
   "metadata": {},
   "outputs": [],
   "source": [
    "# print(next(iter(train_set)))\n",
    "train_set = torch.utils.data.DataLoader(masese_train, batch_size=64, shuffle=True,\n",
    "                                        num_workers=2, collate_fn=collate_fn_libri)"
   ]
  },
  {
   "cell_type": "code",
   "execution_count": 80,
   "metadata": {},
   "outputs": [],
   "source": [
    "def collate_fn_libri(batch):\n",
    "    #print(batch)\n",
    "    tensors = [b[0].t() for b in batch if b]\n",
    "    tensors_len = [len(t) for t in tensors]\n",
    "    tensors = torch.nn.utils.rnn.pad_sequence(tensors, batch_first=True)\n",
    "    tensors = tensors.transpose(1, -1)\n",
    "    \n",
    "    transcriptions = [list(b[2].replace(\"'\", \" \")) for b in batch if b]\n",
    "    targets = [torch.tensor([tokens_list.index(e) for e in t]) for t in transcriptions]\n",
    "    targets_len = [len(t) for t in targets]\n",
    "    targets = torch.nn.utils.rnn.pad_sequence(targets, batch_first=True)\n",
    "    \n",
    "    return tensors, targets, torch.tensor(tensors_len), torch.tensor(targets_len)\n",
    "\n",
    "valid_set = torch.utils.data.DataLoader(masese_dev, batch_size=1500, shuffle=True,\n",
    "                                        num_workers=4, collate_fn=collate_fn_libri)"
   ]
  },
  {
   "cell_type": "code",
   "execution_count": 94,
   "metadata": {},
   "outputs": [
    {
     "name": "stdout",
     "output_type": "stream",
     "text": [
      "(tensor([[[0., 0., 0.,  ..., 0., 0., 0.]],\n",
      "\n",
      "        [[0., 0., 0.,  ..., 0., 0., 0.]],\n",
      "\n",
      "        [[0., 0., 0.,  ..., 0., 0., 0.]],\n",
      "\n",
      "        ...,\n",
      "\n",
      "        [[0., 0., 0.,  ..., 0., 0., 0.]],\n",
      "\n",
      "        [[0., 0., 0.,  ..., 0., 0., 0.]],\n",
      "\n",
      "        [[0., 0., 0.,  ..., 0., 0., 0.]]]), tensor([[11, 15, 19,  ...,  0,  0,  0],\n",
      "        [14,  1,  0,  ...,  0,  0,  0],\n",
      "        [14,  1,  0,  ...,  0,  0,  0],\n",
      "        ...,\n",
      "        [ 2, 15, 12,  ...,  0,  0,  0],\n",
      "        [13, 16, 15,  ...,  0,  0,  0],\n",
      "        [13, 23,  1,  ...,  0,  0,  0]]), tensor([183315, 163350, 350658, 288585, 224697, 193479, 188760, 169884, 157542,\n",
      "        253737, 162261, 116160, 176418, 235950, 142296, 120153, 185493, 293304,\n",
      "        132495, 233046, 238150, 135762, 186219, 182952, 184404, 225060, 186582,\n",
      "        223245, 267894, 204732, 249381, 161535, 173151, 246114, 217437, 263538,\n",
      "        178959, 202917, 198924, 224697, 207636, 223971, 197109, 146289, 280236,\n",
      "        117975, 217437, 191301, 170610, 221793, 104181, 172062, 233046, 200376,\n",
      "        342309, 217437, 178233, 172062, 253737, 171336, 206184, 202191, 129228,\n",
      "        214533, 167728, 181863, 201828, 221430, 188397, 235224, 225060, 284592,\n",
      "        176418, 147400, 195657, 116886, 172788, 181522, 281325, 158631, 276606,\n",
      "        151371, 233409, 198561, 265716, 140118, 160809, 246840, 239217, 149919,\n",
      "        138303, 150282, 151371, 186219, 196383, 152823, 228690, 199650, 181500,\n",
      "        197472, 233409, 160809, 222519, 160083, 205095, 167343, 168069, 126687,\n",
      "        208021, 249744, 136851, 222882, 170610, 235950, 175329, 232320, 185493,\n",
      "        207636, 193842, 129228, 173877, 212718, 213807, 221067, 152097, 274428,\n",
      "        181863, 184767, 164076, 242484, 166980, 216348, 268620, 198924,  87120,\n",
      "        196383, 126687, 242121, 192753, 211992, 133221, 196746, 232320, 143385,\n",
      "        163350, 190575, 158268, 199287, 178233, 257004, 225786, 220000, 119064,\n",
      "        232320, 169158, 234861, 222882, 155001, 140844, 195657, 191664, 120153,\n",
      "        161898, 118338, 120153, 212355, 168795, 247929, 203280, 144837, 183315,\n",
      "        180774, 196383, 152460, 117634, 160446, 145926, 141570, 180411, 248292,\n",
      "        178596, 190938, 175692, 194568, 152460, 164076, 182589, 161194, 191664,\n",
      "        158290, 235972, 162987, 163350, 169158, 276606, 209814, 121968, 115797,\n",
      "        116886, 193842, 211266, 252285, 204732, 163350, 185130, 197109, 152460,\n",
      "        209451, 125961, 216348, 255189, 147015, 178233, 169884, 345939, 181137,\n",
      "        152097, 211266, 196020, 137214, 165891, 301290, 237039, 128865, 180411,\n",
      "        196746, 266079, 161172, 203643, 188034, 148104, 174625, 217074, 155364,\n",
      "        210903, 211992, 197109, 197109, 172425, 193116, 161535, 206547, 145926,\n",
      "        176418, 183315, 163713, 161172, 227964, 215259, 186582, 140118, 169521,\n",
      "        254826, 130680, 295119, 238128, 141207, 164076, 232320, 166980, 211629,\n",
      "        179322, 123783, 150282, 198198, 356829, 145926, 159357, 273339, 165165,\n",
      "        178959, 151008, 223245, 168069, 171699]), tensor([118,  92, 163, 109, 115,  98,  83,  68,  91,  85,  87,  71,  78, 117,\n",
      "         93,  83, 108, 111,  81, 111, 117,  69, 111, 108, 105, 129,  79,  90,\n",
      "        124, 103, 126,  85,  78, 135, 106, 165,  86, 130,  99, 124,  85, 100,\n",
      "        105,  70,  96,  63, 148, 101, 105, 104,  77,  57, 129, 110, 133, 107,\n",
      "         80,  86, 110,  79,  98, 117,  90,  84, 106, 104, 108,  79, 107, 108,\n",
      "         98, 105, 106,  71, 116,  94,  83, 105, 175,  62, 120,  86, 119, 115,\n",
      "        127,  89,  78,  92, 131,  75,  81,  80,  86, 102, 107,  91, 100,  90,\n",
      "        120,  84,  93, 100, 130,  72,  95, 104,  84,  66,  92, 130,  78,  96,\n",
      "        111, 110,  79, 108,  97, 107, 106,  83, 115, 108, 117,  95,  88, 120,\n",
      "         88,  94,  87,  97,  94, 140, 133, 104,  69,  90,  73, 117,  78, 115,\n",
      "         59,  88, 130,  83, 100, 118,  95,  89,  76, 123, 139, 108,  74, 116,\n",
      "         86,  92, 101,  92,  95, 109, 103,  78,  72,  70,  70, 116,  90, 120,\n",
      "        115,  78,  93,  95,  80,  79,  79,  75,  83,  92,  90,  89, 100, 101,\n",
      "         97, 119,  65,  87, 100,  84,  88,  89, 138,  96,  87,  97, 104, 102,\n",
      "         63,  62,  62,  99, 111, 110,  97, 102, 105,  92,  87, 103,  73, 115,\n",
      "         99,  94, 105,  81, 139,  96,  82, 102, 105,  63,  81, 114, 112,  71,\n",
      "         93, 130, 123, 100,  95,  94,  88, 103,  72,  78, 106, 108, 111, 117,\n",
      "        105,  94,  84, 107,  78,  85,  95,  93, 102,  93,  92, 102,  92,  96,\n",
      "        120,  58, 143, 118,  94,  71, 144, 102, 147,  74,  62,  99,  92, 143,\n",
      "         87,  68, 122,  86, 115,  88, 105,  69,  98]))\n"
     ]
    }
   ],
   "source": [
    "print(next(iter(valid_set)))\n"
   ]
  },
  {
   "cell_type": "code",
   "execution_count": null,
   "metadata": {},
   "outputs": [],
   "source": []
  }
 ],
 "metadata": {
  "kernelspec": {
   "display_name": "Python 3.7.4 64-bit ('aims': conda)",
   "language": "python",
   "name": "python37464bitaimsconda6bccf2f8401542c48647bf2fd404ce6f"
  },
  "language_info": {
   "codemirror_mode": {
    "name": "ipython",
    "version": 3
   },
   "file_extension": ".py",
   "mimetype": "text/x-python",
   "name": "python",
   "nbconvert_exporter": "python",
   "pygments_lexer": "ipython3",
   "version": "3.7.4"
  }
 },
 "nbformat": 4,
 "nbformat_minor": 4
}
