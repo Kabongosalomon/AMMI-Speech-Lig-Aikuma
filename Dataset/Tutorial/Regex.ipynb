{
 "cells": [
  {
   "cell_type": "code",
   "execution_count": 1,
   "metadata": {},
   "outputs": [],
   "source": [
    "import re"
   ]
  },
  {
   "cell_type": "code",
   "execution_count": 6,
   "metadata": {},
   "outputs": [
    {
     "name": "stdout",
     "output_type": "stream",
     "text": [
      "None\n"
     ]
    }
   ],
   "source": [
    "pattern = r\"\\W+\"\n",
    "string = 'Tózwa biloko ya motuya 5 ya ndenge nyonso.+ Tótondisa bandako na biso na biloko oyo epunzami. +'\n",
    "print(re.match(pattern, string))"
   ]
  },
  {
   "cell_type": "code",
   "execution_count": 7,
   "metadata": {},
   "outputs": [],
   "source": [
    "re.match(r\"\\W+\", \"Word, Word\")"
   ]
  },
  {
   "cell_type": "code",
   "execution_count": 12,
   "metadata": {},
   "outputs": [
    {
     "name": "stdout",
     "output_type": "stream",
     "text": [
      " hello there A Z R T w orld welcome to python \n",
      "this should the next line followed by an other million like this \n"
     ]
    }
   ],
   "source": [
    "import re\n",
    "a = ''' hello? there A-Z-R_T(,**), w 09 orld, welcome to python +.\n",
    "this **should? the next line#followed- by@ an#other %million^ %%like $this.'''\n",
    "\n",
    "for k in a.split(\"\\n\"):\n",
    "    print(re.sub(r\"[^a-zA-Z]+\", ' ', k))"
   ]
  },
  {
   "cell_type": "code",
   "execution_count": null,
   "metadata": {},
   "outputs": [],
   "source": []
  }
 ],
 "metadata": {
  "kernelspec": {
   "display_name": "Python 3",
   "language": "python",
   "name": "python3"
  },
  "language_info": {
   "codemirror_mode": {
    "name": "ipython",
    "version": 3
   },
   "file_extension": ".py",
   "mimetype": "text/x-python",
   "name": "python",
   "nbconvert_exporter": "python",
   "pygments_lexer": "ipython3",
   "version": "3.7.4"
  }
 },
 "nbformat": 4,
 "nbformat_minor": 4
}
